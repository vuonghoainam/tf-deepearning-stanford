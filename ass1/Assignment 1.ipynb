{
 "cells": [
  {
   "cell_type": "code",
   "execution_count": 2,
   "metadata": {
    "collapsed": true
   },
   "outputs": [],
   "source": [
    "import tensorflow as tf"
   ]
  },
  {
   "cell_type": "code",
   "execution_count": 5,
   "metadata": {},
   "outputs": [],
   "source": [
    "# 1a:\n",
    "# Create two random 0d tensors x and y of any distribution\n",
    "# Create a Tensorflow object that returns\n",
    "# x + y if x > y or x - y if x < y\n",
    "# Empty array as shape creates a scalar\n",
    "x = tf.random_uniform([])\n",
    "y = tf.random_uniform([])\n",
    "# Conditional one, if(...) then .... else ....\n",
    "out = tf.cond(tf.greater(x, y), lambda: tf.add(x, y), lambda: tf.subtract(x, y))"
   ]
  },
  {
   "cell_type": "code",
   "execution_count": 6,
   "metadata": {
    "collapsed": true
   },
   "outputs": [],
   "source": [
    "# 1b: Create two 0d tensors x and y randomly, selected from -1 and 1\n",
    "# Return x + y uf x < y, x-y if x > y, 0 otherwise\n",
    "x = tf.random_uniform([], -1, 1, dtype=tf.float32)\n",
    "y = tf.random_uniform([], -1, 1, dtype=tf.float32)\n",
    "out = tf.case({tf.less(x,y): lambda: tf.add(x,y),\n",
    "              tf.greater(x,y):lambda: tf.subtract(x,y)},\n",
    "             default=lambda: tf.constant(0.0), exclusive=True)\n"
   ]
  },
  {
   "cell_type": "code",
   "execution_count": 14,
   "metadata": {},
   "outputs": [],
   "source": [
    "# 1c: \n",
    "#Create a tensor x of value ...\n",
    "# and y as a tensor of zeros with the same shapee as x\n",
    "# Return a boolean tensor that yields True if y element- wise\n",
    "x = tf.constant([[0,-2,-1],[0,1,2]])\n",
    "y = tf.zeros_like(x)\n",
    "out = tf.equal(x,y)"
   ]
  },
  {
   "cell_type": "code",
   "execution_count": 12,
   "metadata": {},
   "outputs": [],
   "source": [
    "# 1d:\n",
    "# Create the tensor x of value ...\n",
    "# Get the indices of elements in x whose values are greater than 30\n",
    "# Then extract those elements\n",
    "\n",
    "x = tf.constant([29.05088806,  27.61298943,  31.19073486,  29.35532951,\n",
    "                30.97266006,  26.67541885,  38.08450317,  20.74983215,\n",
    "                34.94445419,  34.45999146,  29.06485367,  36.01657104,\n",
    "                27.88236427,  20.56035233,  30.20379066,  29.51215172,\n",
    "                33.71149445,  28.59134293,  36.05556488,  28.66994858])\n",
    "\n",
    "indices = tf.where(x>30)\n",
    "out = tf.gather(x, indices)"
   ]
  },
  {
   "cell_type": "code",
   "execution_count": 16,
   "metadata": {},
   "outputs": [],
   "source": [
    "# 1e\n",
    "# Create a diagonal 2-d tensor of size 6x6 with the diagonal values of 1 to 6\n",
    "\n",
    "values = tf.range(1,7)\n",
    "out = tf.diag(values)"
   ]
  },
  {
   "cell_type": "code",
   "execution_count": 18,
   "metadata": {},
   "outputs": [],
   "source": [
    "# 1f: Create a rando 2d tensor of size 10x10 from any distribution\n",
    "# Calculate its determinant\n",
    "m = tf.random_normal([10,10], mean = 10, stddev=1)\n",
    "out = tf.matrix_determinant(m)"
   ]
  },
  {
   "cell_type": "code",
   "execution_count": 21,
   "metadata": {},
   "outputs": [],
   "source": [
    "# 1g:\n",
    "# Create a tensor x with value ..\n",
    "# Return the unique elements in x\n",
    "# tf.unique() returns a turple\n",
    "\n",
    "x = tf.constant([5, 2, 3, 5, 10, 6, 2, 3, 4, 2, 1, 1, 0, 9])\n",
    "unique_values, indices = tf.unique(x)"
   ]
  },
  {
   "cell_type": "code",
   "execution_count": 24,
   "metadata": {},
   "outputs": [],
   "source": [
    "# 1h: \n",
    "# Create 2 tensors x and y of shape 300 from any normal distribution\n",
    "# as long as they are from the same distribution\n",
    "# Use tf.less() and tf.select() to return\n",
    "# - The MSE of (x-y) if the avg  of all elements in (x-y) is negative\n",
    "# - The sum of absolute value of all elements in the tensor (x-y) otherwise\n",
    "# Use Huber loss function in the lecture\n",
    "\n",
    "# tf.where() to replace tf.select() in TF 1.0\n",
    "x = tf.random_normal([300], mean=5, stddev=1)\n",
    "y = tf.random_normal([300], mean=5, stddev=1)\n",
    "average = tf.reduce_mean(x-y)\n",
    "condition = tf.less(average,0)\n",
    "\n",
    "left_op = tf.reduce_mean(tf.square(x-y))\n",
    "right_op = tf.reduce_mean(tf.abs(x-y))\n",
    "\n",
    "out = tf.where(condition, left_op, right_op)\n"
   ]
  },
  {
   "cell_type": "code",
   "execution_count": 28,
   "metadata": {},
   "outputs": [
    {
     "data": {
      "text/plain": [
       "<tf.Tensor 'Select_2:0' shape=(300,) dtype=float32>"
      ]
     },
     "execution_count": 28,
     "metadata": {},
     "output_type": "execute_result"
    }
   ],
   "source": [
    "# 1h next with Huber loss:\n",
    "def huber_loss(labels, predictions, delta=1.0):\n",
    "    residual= tf.abs(predictions-labels)\n",
    "    condition = tf.less(residual, labels)\n",
    "    small_res = 0.5 * tf.square(residual)\n",
    "    large_res = delta * residual - 0.5* tf.square(delta)\n",
    "    \n",
    "    return tf.where(condition, small_res, large_res)\n",
    "huber_loss(x,y)"
   ]
  }
 ],
 "metadata": {
  "kernelspec": {
   "display_name": "Python 3",
   "language": "python",
   "name": "python3"
  },
  "language_info": {
   "codemirror_mode": {
    "name": "ipython",
    "version": 3
   },
   "file_extension": ".py",
   "mimetype": "text/x-python",
   "name": "python",
   "nbconvert_exporter": "python",
   "pygments_lexer": "ipython3",
   "version": "3.5.3"
  }
 },
 "nbformat": 4,
 "nbformat_minor": 2
}
