{
 "cells": [
  {
   "cell_type": "code",
   "execution_count": null,
   "metadata": {
    "collapsed": true
   },
   "outputs": [],
   "source": [
    "import tensorflow as tf"
   ]
  },
  {
   "cell_type": "code",
   "execution_count": null,
   "metadata": {
    "collapsed": true
   },
   "outputs": [],
   "source": [
    "# 1a:\n",
    "# Create two random 0d tensors x and y of any distribution\n",
    "# Create a Tensorflow object that returns\n",
    "# x + y if x > y or x - y if x < y\n",
    "# Empty array as shape creates a scalar\n",
    "x = tf.random_uniform([])\n",
    "y = tf.random_uniform([])\n",
    "# Conditional one, if(...) then .... else ....\n",
    "out = tf.cond(tf.greater(x,y),lambda:tf.add(x,y),lambda:tf.sub(x,y))"
   ]
  },
  {
   "cell_type": "code",
   "execution_count": null,
   "metadata": {
    "collapsed": true
   },
   "outputs": [],
   "source": [
    "# 1b: Create two 0d tensors x and y randomly, selected from -1 and 1\n",
    "# Return x + y uf x < y, x-y if x > y, 0 otherwise\n",
    "x = tf.random_uniform([], -1, 1, dtype=tf.float32)\n",
    "y = tf.random_uniform([], -1, 1, dtype=tf.float32)\n",
    "out = tf.case()\n"
   ]
  }
 ],
 "metadata": {
  "kernelspec": {
   "display_name": "Python 3",
   "language": "python",
   "name": "python3"
  },
  "language_info": {
   "codemirror_mode": {
    "name": "ipython",
    "version": 3
   },
   "file_extension": ".py",
   "mimetype": "text/x-python",
   "name": "python",
   "nbconvert_exporter": "python",
   "pygments_lexer": "ipython3",
   "version": "3.5.3"
  }
 },
 "nbformat": 4,
 "nbformat_minor": 2
}
