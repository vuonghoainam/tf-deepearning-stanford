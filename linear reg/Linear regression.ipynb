{
 "cells": [
  {
   "cell_type": "code",
   "execution_count": 19,
   "metadata": {
    "collapsed": true
   },
   "outputs": [],
   "source": [
    "# This program tries to predict the number of thefts from the number\n",
    "# of fire in the city\n",
    "\n",
    "import numpy as np\n",
    "import matplotlib.pyplot as plt\n",
    "import tensorflow as tf\n",
    "import xlrd # To read from .xls file"
   ]
  },
  {
   "cell_type": "code",
   "execution_count": 20,
   "metadata": {},
   "outputs": [
    {
     "name": "stdout",
     "output_type": "stream",
     "text": [
      "42\n"
     ]
    }
   ],
   "source": [
    "# Step 1: read in data from the .xls file\n",
    "DATA_FILE = 'fire_theft.xls'\n",
    "\n",
    "book = xlrd.open_workbook(DATA_FILE,encoding_override=\"utf-8\")\n",
    "# Choose the first sheet in the file\n",
    "sheet = book.sheet_by_index(0)\n",
    "# Convert data into np array, loop for i row in the sheet\n",
    "data = np.asarray([sheet.row_values(i) for i in range(1,sheet.nrows)])\n",
    "n_samples = sheet.nrows - 1\n",
    "print(n_samples)\n"
   ]
  },
  {
   "cell_type": "code",
   "execution_count": 21,
   "metadata": {
    "collapsed": true
   },
   "outputs": [],
   "source": [
    "# Step 2: create placeholders for input X(number of fire) and label\n",
    "X = tf.placeholder(tf.float32,name='X')\n",
    "Y = tf.placeholder(tf.float32,name='Y') # real value"
   ]
  },
  {
   "cell_type": "code",
   "execution_count": 22,
   "metadata": {
    "collapsed": true
   },
   "outputs": [],
   "source": [
    "# Step 3: create weight and bias, then init them to 0\n",
    "w = tf.Variable(0.0,name='weights')\n",
    "b = tf.Variable(0.0,name=\"bias\")"
   ]
  },
  {
   "cell_type": "code",
   "execution_count": 23,
   "metadata": {
    "collapsed": true
   },
   "outputs": [],
   "source": [
    "# Step 4: Build model to predict predict Y, linear regression\n",
    "Y_predicted = X*w+b"
   ]
  },
  {
   "cell_type": "code",
   "execution_count": 24,
   "metadata": {
    "collapsed": true
   },
   "outputs": [],
   "source": [
    "# Step 5: Use the square error as the loss function, Eclidean disance\n",
    "loss = tf.square(Y-Y_predicted,name='loss')"
   ]
  },
  {
   "cell_type": "code",
   "execution_count": 25,
   "metadata": {
    "collapsed": true
   },
   "outputs": [],
   "source": [
    "# Step 6: Using (Batch) gradient descent to train\n",
    "learning_rate = 0.000001\n",
    "optimizer = tf.train.GradientDescentOptimizer(learning_rate).minimize(loss)"
   ]
  },
  {
   "cell_type": "code",
   "execution_count": 26,
   "metadata": {},
   "outputs": [
    {
     "name": "stdout",
     "output_type": "stream",
     "text": [
      "Epoch 99: 481.2195752614574\n"
     ]
    }
   ],
   "source": [
    "# Start to train here\n",
    "with tf.Session() as sess:\n",
    "    # Step 7: Initialize the neccessary variable ( w and b)\n",
    "    sess.run(tf.global_variables_initializer())\n",
    "    # Summarize the training in the graph\n",
    "    writer = tf.summary.FileWriter('./linear_reg',sess.graph)\n",
    "    \n",
    "    # Step 8:\n",
    "    for i in range(100): # train the model 100 times\n",
    "        total_loss = 0\n",
    "        for x, y in data:\n",
    "            # Session runs train_op and fetch values of loss\n",
    "            _, l = sess.run([optimizer, loss], feed_dict={X: x, Y:y}) # This one needs to be digged deeper\n",
    "            total_loss += l\n",
    "    print ('Epoch {0}: {1}'.format(i, total_loss/n_samples))\n",
    "    # Substitute the {0} and {1} with the format latter???:D\n",
    "    \n",
    "    # Close the writer when we're done\n",
    "    writer.close()\n",
    "    \n",
    "    # Step 9: Output the values of w and b\n",
    "    w_value, b_value = sess.run([w,b])\n",
    "    #print('W is '+ w_value)\n",
    "    #print('B is '+ b_value)"
   ]
  },
  {
   "cell_type": "code",
   "execution_count": 27,
   "metadata": {
    "scrolled": true
   },
   "outputs": [
    {
     "data": {
      "image/png": "[encoded data removed]",
      "text/plain": [
       "<matplotlib.figure.Figure at 0x14da65d8630>"
      ]
     },
     "metadata": {},
     "output_type": "display_data"
    }
   ],
   "source": [
    "# Plot the result\n",
    "X,Y = data.T[0], data.T[0]\n",
    "plt.plot(X,Y,'bo',label=\"Real\")\n",
    "plt.plot(X,X*w_value + b_value,'r',label=\"Predicted\")\n",
    "plt.legend()\n",
    "plt.show()"
   ]
  }
 ],
 "metadata": {
  "kernelspec": {
   "display_name": "Python 3",
   "language": "python",
   "name": "python3"
  },
  "language_info": {
   "codemirror_mode": {
    "name": "ipython",
    "version": 3
   },
   "file_extension": ".py",
   "mimetype": "text/x-python",
   "name": "python",
   "nbconvert_exporter": "python",
   "pygments_lexer": "ipython3",
   "version": "3.5.3"
  }
 },
 "nbformat": 4,
 "nbformat_minor": 2
}
