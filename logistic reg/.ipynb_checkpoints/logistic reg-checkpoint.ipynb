{
 "cells": [
  {
   "cell_type": "code",
   "execution_count": 1,
   "metadata": {
    "collapsed": true
   },
   "outputs": [],
   "source": [
    "import tensorflow as tf\n",
    "import numpy as np\n",
    "\n",
    "# Load the MNIST dataset\n",
    "from tensorflow.examples.tutorials.mnist import input_data\n",
    "\n",
    "# Calculate time to do\n",
    "import time"
   ]
  },
  {
   "cell_type": "code",
   "execution_count": 2,
   "metadata": {
    "collapsed": true
   },
   "outputs": [],
   "source": [
    "# Initialize some params for the model\n",
    "learning_rate = 0.01\n",
    "batch_size = 128\n",
    "n_epochs = 30"
   ]
  },
  {
   "cell_type": "code",
   "execution_count": 3,
   "metadata": {},
   "outputs": [
    {
     "name": "stdout",
     "output_type": "stream",
     "text": [
      "Extracting MNIST_data/train-images-idx3-ubyte.gz\n",
      "Extracting MNIST_data/train-labels-idx1-ubyte.gz\n",
      "Extracting MNIST_data/t10k-images-idx3-ubyte.gz\n",
      "Extracting MNIST_data/t10k-labels-idx1-ubyte.gz\n"
     ]
    }
   ],
   "source": [
    "# Step 1: Read in data\n",
    "# using TF Learn's built in function to load data into the folder\n",
    "mnist = input_data.read_data_sets(\"MNIST_data/\", one_hot=True)\n",
    "# one_host???"
   ]
  },
  {
   "cell_type": "code",
   "execution_count": 4,
   "metadata": {
    "collapsed": true
   },
   "outputs": [],
   "source": [
    "# Step 2: Create placeholders for features and labels\n",
    "# each image in the MNIST data is of shape 28*28=784\n",
    "# So that each image is represented with the tensor of 1x784\n",
    "# there are 10 classes for each images, correspoding to digits 0-9\n",
    "# each label is one-hot vector\n",
    "X = tf.placeholder(tf.float32,[batch_size,784],name=\"X_placeholder\")\n",
    "Y = tf.placeholder(tf.float32,[batch_size,10],name=\"Y_placeholder\")"
   ]
  },
  {
   "cell_type": "code",
   "execution_count": 5,
   "metadata": {
    "collapsed": true
   },
   "outputs": [],
   "source": [
    "# Step 3: create weights and bias\n",
    "# w ~ random var with mean = 0, stddev = 0.01\n",
    "# b ~ init to 0\n",
    "# shape of w depends on the dimension of X and Y\n",
    "# -> Y = tf.mathmul(X,w)\n",
    "# shape of b depends on Y as it is bias\n",
    "w = tf.Variable(tf.random_normal(shape=[784,10],stddev=0.01),name=\"weight\")\n",
    "b = tf.Variable(tf.zeros([1,10]),name='bias')"
   ]
  },
  {
   "cell_type": "code",
   "execution_count": 6,
   "metadata": {
    "collapsed": true
   },
   "outputs": [],
   "source": [
    "# Step 4: Build model\n",
    "# this model returns logis\n",
    "# The logits will be later passed through softmax layer\n",
    "logits = tf.matmul(X,w)+b"
   ]
  },
  {
   "cell_type": "code",
   "execution_count": 7,
   "metadata": {},
   "outputs": [],
   "source": [
    "# Step 5: defind loss functiom\n",
    "# use cross entropy of softmax(logits) as the loss function\n",
    "entropy = tf.nn.softmax_cross_entropy_with_logits(logits=logits, labels=Y, name='loss')\n",
    "loss = tf.reduce_mean(entropy) # computes the mean over all the examples in the batch\n",
    "# Compute the mean over the batch"
   ]
  },
  {
   "cell_type": "code",
   "execution_count": 8,
   "metadata": {
    "collapsed": true
   },
   "outputs": [],
   "source": [
    "# Step 6: Define training up\n",
    "# Using batch gradient descent to optimize\n",
    "optimizer = tf.train.GradientDescentOptimizer(learning_rate).minimize(loss)"
   ]
  },
  {
   "cell_type": "code",
   "execution_count": 9,
   "metadata": {
    "scrolled": true
   },
   "outputs": [
    {
     "name": "stdout",
     "output_type": "stream",
     "text": [
      "Average loss epoch 0: 1.290535071790913\n",
      "Average loss epoch 1: 0.7339362796647844\n",
      "Average loss epoch 2: 0.6012215679619973\n",
      "Average loss epoch 3: 0.5372115354160051\n",
      "Average loss epoch 4: 0.49833873268607615\n",
      "Average loss epoch 5: 0.4712844356234535\n",
      "Average loss epoch 6: 0.45133311695707984\n",
      "Average loss epoch 7: 0.43657981203152585\n",
      "Average loss epoch 8: 0.42356584101290135\n",
      "Average loss epoch 9: 0.4145654415959245\n",
      "Average loss epoch 10: 0.40364008228400927\n",
      "Average loss epoch 11: 0.39747472920201044\n",
      "Average loss epoch 12: 0.38989048112522473\n",
      "Average loss epoch 13: 0.3844576293216163\n",
      "Average loss epoch 14: 0.38022093311612143\n",
      "Average loss epoch 15: 0.3751095807427293\n",
      "Average loss epoch 16: 0.36961722384382795\n",
      "Average loss epoch 17: 0.3677110363553454\n",
      "Average loss epoch 18: 0.3620306716793345\n",
      "Average loss epoch 19: 0.3596676932278769\n",
      "Average loss epoch 20: 0.3581176718701294\n",
      "Average loss epoch 21: 0.35248348026564624\n",
      "Average loss epoch 22: 0.35207802394192256\n",
      "Average loss epoch 23: 0.3498528117622251\n",
      "Average loss epoch 24: 0.34618383680745995\n",
      "Average loss epoch 25: 0.34388698001841567\n",
      "Average loss epoch 26: 0.34250769456783375\n",
      "Average loss epoch 27: 0.3397499947420089\n",
      "Average loss epoch 28: 0.3388113946347803\n",
      "Average loss epoch 29: 0.33741092695778624\n",
      "Total time: 47.48960041999817 seconds\n",
      "Optimization finished\n",
      "Accuracy 0.9118\n"
     ]
    }
   ],
   "source": [
    "# Start the training\n",
    "with tf.Session() as sess:\n",
    "    # to visualize using Tensorboard\n",
    "    writer = tf.summary.FileWriter('./logistic_reg',sess.graph)\n",
    "    \n",
    "    start_time = time.time()\n",
    "    # Init all variables\n",
    "    sess.run(tf.global_variables_initializer())\n",
    "    n_batches = int(mnist.train.num_examples/batch_size)\n",
    "    \n",
    "    for i in range(n_epochs):\n",
    "        total_loss = 0\n",
    "        \n",
    "        for _ in range(n_batches):\n",
    "            X_batch, Y_batch = mnist.train.next_batch(batch_size)\n",
    "            _, loss_batch = sess.run([optimizer,loss],feed_dict={X:X_batch,Y:Y_batch})\n",
    "            total_loss += loss_batch\n",
    "        print('Average loss epoch {0}: {1}'.format(i,total_loss/n_batches))\n",
    "    print('Total time: {0} seconds'.format(time.time() - start_time))\n",
    "    \n",
    "    print('Optimization finished') # Should be around 0.35 after 25 epoches\n",
    "    \n",
    "# Model testing\n",
    "    n_batches = int(mnist.test.num_examples/batch_size)\n",
    "    total_correct_preds = 0\n",
    "\n",
    "    for i in range(n_batches):\n",
    "        X_batch, Y_batch = mnist.test.next_batch(batch_size)\n",
    "        _, loss_batch, logits_batch = sess.run([optimizer, loss, logits],\n",
    "                                              feed_dict={X:X_batch,Y:Y_batch})\n",
    "        preds = tf.nn.softmax(logits_batch)\n",
    "        correct_preds = tf.equal(tf.argmax(preds,1),tf.argmax(Y_batch,1))\n",
    "        accuracy = tf.reduce_sum(tf.cast(correct_preds,tf.float32))\n",
    "        total_correct_preds += sess.run(accuracy)\n",
    "    \n",
    "    print('Accuracy {0}'.format(total_correct_preds/mnist.test.num_examples))\n",
    "\n",
    "    writer.close()\n"
   ]
  }
 ],
 "metadata": {
  "kernelspec": {
   "display_name": "Python 3",
   "language": "python",
   "name": "python3"
  },
  "language_info": {
   "codemirror_mode": {
    "name": "ipython",
    "version": 3
   },
   "file_extension": ".py",
   "mimetype": "text/x-python",
   "name": "python",
   "nbconvert_exporter": "python",
   "pygments_lexer": "ipython3",
   "version": "3.5.3"
  }
 },
 "nbformat": 4,
 "nbformat_minor": 2
}
